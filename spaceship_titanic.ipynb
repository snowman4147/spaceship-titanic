{
 "cells": [
  {
   "cell_type": "markdown",
   "source": [
    "# Import library"
   ],
   "metadata": {
    "collapsed": false
   },
   "id": "f51d33ecb16ec276"
  },
  {
   "cell_type": "code",
   "outputs": [],
   "source": [
    "import pandas as pd\n",
    "import matplotlib.pyplot as plt\n",
    "from sklearn.model_selection import train_test_split\n",
    "from sklearn import preprocessing"
   ],
   "metadata": {
    "collapsed": false,
    "ExecuteTime": {
     "end_time": "2024-03-13T11:43:27.395899Z",
     "start_time": "2024-03-13T11:43:27.393254Z"
    }
   },
   "id": "initial_id",
   "execution_count": 57
  },
  {
   "cell_type": "markdown",
   "source": [
    "# Load Datasets"
   ],
   "metadata": {
    "collapsed": false
   },
   "id": "44232b58feb9070a"
  },
  {
   "cell_type": "code",
   "outputs": [],
   "source": [
    "train = pd.read_csv('./datasets/train.csv')\n",
    "test = pd.read_csv('./datasets/test.csv')"
   ],
   "metadata": {
    "collapsed": false,
    "ExecuteTime": {
     "end_time": "2024-03-13T11:43:27.500407Z",
     "start_time": "2024-03-13T11:43:27.474901Z"
    }
   },
   "id": "262bad91cde07ae3",
   "execution_count": 58
  },
  {
   "cell_type": "markdown",
   "source": [
    "# Data Analysis"
   ],
   "metadata": {
    "collapsed": false
   },
   "id": "55184eb6786c5d6b"
  },
  {
   "cell_type": "code",
   "outputs": [
    {
     "data": {
      "text/plain": "  PassengerId HomePlanet CryoSleep  Cabin  Destination   Age    VIP  \\\n0     0001_01     Europa     False  B/0/P  TRAPPIST-1e  39.0  False   \n1     0002_01      Earth     False  F/0/S  TRAPPIST-1e  24.0  False   \n2     0003_01     Europa     False  A/0/S  TRAPPIST-1e  58.0   True   \n3     0003_02     Europa     False  A/0/S  TRAPPIST-1e  33.0  False   \n4     0004_01      Earth     False  F/1/S  TRAPPIST-1e  16.0  False   \n\n   RoomService  FoodCourt  ShoppingMall     Spa  VRDeck               Name  \\\n0          0.0        0.0           0.0     0.0     0.0    Maham Ofracculy   \n1        109.0        9.0          25.0   549.0    44.0       Juanna Vines   \n2         43.0     3576.0           0.0  6715.0    49.0      Altark Susent   \n3          0.0     1283.0         371.0  3329.0   193.0       Solam Susent   \n4        303.0       70.0         151.0   565.0     2.0  Willy Santantines   \n\n   Transported  \n0        False  \n1         True  \n2        False  \n3        False  \n4         True  ",
      "text/html": "<div>\n<style scoped>\n    .dataframe tbody tr th:only-of-type {\n        vertical-align: middle;\n    }\n\n    .dataframe tbody tr th {\n        vertical-align: top;\n    }\n\n    .dataframe thead th {\n        text-align: right;\n    }\n</style>\n<table border=\"1\" class=\"dataframe\">\n  <thead>\n    <tr style=\"text-align: right;\">\n      <th></th>\n      <th>PassengerId</th>\n      <th>HomePlanet</th>\n      <th>CryoSleep</th>\n      <th>Cabin</th>\n      <th>Destination</th>\n      <th>Age</th>\n      <th>VIP</th>\n      <th>RoomService</th>\n      <th>FoodCourt</th>\n      <th>ShoppingMall</th>\n      <th>Spa</th>\n      <th>VRDeck</th>\n      <th>Name</th>\n      <th>Transported</th>\n    </tr>\n  </thead>\n  <tbody>\n    <tr>\n      <th>0</th>\n      <td>0001_01</td>\n      <td>Europa</td>\n      <td>False</td>\n      <td>B/0/P</td>\n      <td>TRAPPIST-1e</td>\n      <td>39.0</td>\n      <td>False</td>\n      <td>0.0</td>\n      <td>0.0</td>\n      <td>0.0</td>\n      <td>0.0</td>\n      <td>0.0</td>\n      <td>Maham Ofracculy</td>\n      <td>False</td>\n    </tr>\n    <tr>\n      <th>1</th>\n      <td>0002_01</td>\n      <td>Earth</td>\n      <td>False</td>\n      <td>F/0/S</td>\n      <td>TRAPPIST-1e</td>\n      <td>24.0</td>\n      <td>False</td>\n      <td>109.0</td>\n      <td>9.0</td>\n      <td>25.0</td>\n      <td>549.0</td>\n      <td>44.0</td>\n      <td>Juanna Vines</td>\n      <td>True</td>\n    </tr>\n    <tr>\n      <th>2</th>\n      <td>0003_01</td>\n      <td>Europa</td>\n      <td>False</td>\n      <td>A/0/S</td>\n      <td>TRAPPIST-1e</td>\n      <td>58.0</td>\n      <td>True</td>\n      <td>43.0</td>\n      <td>3576.0</td>\n      <td>0.0</td>\n      <td>6715.0</td>\n      <td>49.0</td>\n      <td>Altark Susent</td>\n      <td>False</td>\n    </tr>\n    <tr>\n      <th>3</th>\n      <td>0003_02</td>\n      <td>Europa</td>\n      <td>False</td>\n      <td>A/0/S</td>\n      <td>TRAPPIST-1e</td>\n      <td>33.0</td>\n      <td>False</td>\n      <td>0.0</td>\n      <td>1283.0</td>\n      <td>371.0</td>\n      <td>3329.0</td>\n      <td>193.0</td>\n      <td>Solam Susent</td>\n      <td>False</td>\n    </tr>\n    <tr>\n      <th>4</th>\n      <td>0004_01</td>\n      <td>Earth</td>\n      <td>False</td>\n      <td>F/1/S</td>\n      <td>TRAPPIST-1e</td>\n      <td>16.0</td>\n      <td>False</td>\n      <td>303.0</td>\n      <td>70.0</td>\n      <td>151.0</td>\n      <td>565.0</td>\n      <td>2.0</td>\n      <td>Willy Santantines</td>\n      <td>True</td>\n    </tr>\n  </tbody>\n</table>\n</div>"
     },
     "execution_count": 59,
     "metadata": {},
     "output_type": "execute_result"
    }
   ],
   "source": [
    "train.head()"
   ],
   "metadata": {
    "collapsed": false,
    "ExecuteTime": {
     "end_time": "2024-03-13T11:43:27.509844Z",
     "start_time": "2024-03-13T11:43:27.501408Z"
    }
   },
   "id": "efb6c6790bb78a69",
   "execution_count": 59
  },
  {
   "cell_type": "code",
   "outputs": [
    {
     "name": "stdout",
     "output_type": "stream",
     "text": [
      "<class 'pandas.core.frame.DataFrame'>\n",
      "RangeIndex: 8693 entries, 0 to 8692\n",
      "Data columns (total 14 columns):\n",
      " #   Column        Non-Null Count  Dtype  \n",
      "---  ------        --------------  -----  \n",
      " 0   PassengerId   8693 non-null   object \n",
      " 1   HomePlanet    8492 non-null   object \n",
      " 2   CryoSleep     8476 non-null   object \n",
      " 3   Cabin         8494 non-null   object \n",
      " 4   Destination   8511 non-null   object \n",
      " 5   Age           8514 non-null   float64\n",
      " 6   VIP           8490 non-null   object \n",
      " 7   RoomService   8512 non-null   float64\n",
      " 8   FoodCourt     8510 non-null   float64\n",
      " 9   ShoppingMall  8485 non-null   float64\n",
      " 10  Spa           8510 non-null   float64\n",
      " 11  VRDeck        8505 non-null   float64\n",
      " 12  Name          8493 non-null   object \n",
      " 13  Transported   8693 non-null   bool   \n",
      "dtypes: bool(1), float64(6), object(7)\n",
      "memory usage: 891.5+ KB\n"
     ]
    }
   ],
   "source": [
    "train.info()"
   ],
   "metadata": {
    "collapsed": false,
    "ExecuteTime": {
     "end_time": "2024-03-13T11:43:27.516794Z",
     "start_time": "2024-03-13T11:43:27.509844Z"
    }
   },
   "id": "fef70c9b3d0a4da6",
   "execution_count": 60
  },
  {
   "cell_type": "code",
   "outputs": [
    {
     "data": {
      "text/plain": "               Age   RoomService     FoodCourt  ShoppingMall           Spa  \\\ncount  8514.000000   8512.000000   8510.000000   8485.000000   8510.000000   \nmean     28.827930    224.687617    458.077203    173.729169    311.138778   \nstd      14.489021    666.717663   1611.489240    604.696458   1136.705535   \nmin       0.000000      0.000000      0.000000      0.000000      0.000000   \n25%      19.000000      0.000000      0.000000      0.000000      0.000000   \n50%      27.000000      0.000000      0.000000      0.000000      0.000000   \n75%      38.000000     47.000000     76.000000     27.000000     59.000000   \nmax      79.000000  14327.000000  29813.000000  23492.000000  22408.000000   \n\n             VRDeck  \ncount   8505.000000  \nmean     304.854791  \nstd     1145.717189  \nmin        0.000000  \n25%        0.000000  \n50%        0.000000  \n75%       46.000000  \nmax    24133.000000  ",
      "text/html": "<div>\n<style scoped>\n    .dataframe tbody tr th:only-of-type {\n        vertical-align: middle;\n    }\n\n    .dataframe tbody tr th {\n        vertical-align: top;\n    }\n\n    .dataframe thead th {\n        text-align: right;\n    }\n</style>\n<table border=\"1\" class=\"dataframe\">\n  <thead>\n    <tr style=\"text-align: right;\">\n      <th></th>\n      <th>Age</th>\n      <th>RoomService</th>\n      <th>FoodCourt</th>\n      <th>ShoppingMall</th>\n      <th>Spa</th>\n      <th>VRDeck</th>\n    </tr>\n  </thead>\n  <tbody>\n    <tr>\n      <th>count</th>\n      <td>8514.000000</td>\n      <td>8512.000000</td>\n      <td>8510.000000</td>\n      <td>8485.000000</td>\n      <td>8510.000000</td>\n      <td>8505.000000</td>\n    </tr>\n    <tr>\n      <th>mean</th>\n      <td>28.827930</td>\n      <td>224.687617</td>\n      <td>458.077203</td>\n      <td>173.729169</td>\n      <td>311.138778</td>\n      <td>304.854791</td>\n    </tr>\n    <tr>\n      <th>std</th>\n      <td>14.489021</td>\n      <td>666.717663</td>\n      <td>1611.489240</td>\n      <td>604.696458</td>\n      <td>1136.705535</td>\n      <td>1145.717189</td>\n    </tr>\n    <tr>\n      <th>min</th>\n      <td>0.000000</td>\n      <td>0.000000</td>\n      <td>0.000000</td>\n      <td>0.000000</td>\n      <td>0.000000</td>\n      <td>0.000000</td>\n    </tr>\n    <tr>\n      <th>25%</th>\n      <td>19.000000</td>\n      <td>0.000000</td>\n      <td>0.000000</td>\n      <td>0.000000</td>\n      <td>0.000000</td>\n      <td>0.000000</td>\n    </tr>\n    <tr>\n      <th>50%</th>\n      <td>27.000000</td>\n      <td>0.000000</td>\n      <td>0.000000</td>\n      <td>0.000000</td>\n      <td>0.000000</td>\n      <td>0.000000</td>\n    </tr>\n    <tr>\n      <th>75%</th>\n      <td>38.000000</td>\n      <td>47.000000</td>\n      <td>76.000000</td>\n      <td>27.000000</td>\n      <td>59.000000</td>\n      <td>46.000000</td>\n    </tr>\n    <tr>\n      <th>max</th>\n      <td>79.000000</td>\n      <td>14327.000000</td>\n      <td>29813.000000</td>\n      <td>23492.000000</td>\n      <td>22408.000000</td>\n      <td>24133.000000</td>\n    </tr>\n  </tbody>\n</table>\n</div>"
     },
     "execution_count": 61,
     "metadata": {},
     "output_type": "execute_result"
    }
   ],
   "source": [
    "train.describe()"
   ],
   "metadata": {
    "collapsed": false,
    "ExecuteTime": {
     "end_time": "2024-03-13T11:43:27.528954Z",
     "start_time": "2024-03-13T11:43:27.516794Z"
    }
   },
   "id": "f70ee6d266363ae1",
   "execution_count": 61
  },
  {
   "cell_type": "code",
   "outputs": [
    {
     "data": {
      "text/plain": "CryoSleep       217\nShoppingMall    208\nVIP             203\nHomePlanet      201\nName            200\nCabin           199\nVRDeck          188\nFoodCourt       183\nSpa             183\nDestination     182\nRoomService     181\nAge             179\nPassengerId       0\nTransported       0\ndtype: int64"
     },
     "execution_count": 62,
     "metadata": {},
     "output_type": "execute_result"
    }
   ],
   "source": [
    "train.isna().sum().sort_values(ascending=False)"
   ],
   "metadata": {
    "collapsed": false,
    "ExecuteTime": {
     "end_time": "2024-03-13T11:43:27.535234Z",
     "start_time": "2024-03-13T11:43:27.529956Z"
    }
   },
   "id": "ec877c251f59408",
   "execution_count": 62
  },
  {
   "cell_type": "code",
   "outputs": [
    {
     "data": {
      "text/plain": "<Figure size 600x800 with 3 Axes>",
      "image/png": "[encoded data removed]"
     },
     "metadata": {},
     "output_type": "display_data"
    }
   ],
   "source": [
    "cols = ['CryoSleep', 'VIP', 'HomePlanet']\n",
    "\n",
    "plt.figure(figsize=(6, 8))\n",
    "for i, col in enumerate(cols):\n",
    "    plt.subplot(len(cols), 1, i+1)\n",
    "    train[col].value_counts().plot(kind='bar', rot=0)\n",
    "    plt.tight_layout(pad=3)"
   ],
   "metadata": {
    "collapsed": false,
    "ExecuteTime": {
     "end_time": "2024-03-13T11:43:27.751684Z",
     "start_time": "2024-03-13T11:43:27.535234Z"
    }
   },
   "id": "22e0705a69b4edad",
   "execution_count": 63
  },
  {
   "cell_type": "code",
   "outputs": [
    {
     "data": {
      "text/plain": "([<matplotlib.patches.Wedge at 0x1ace2f9a7d0>,\n  <matplotlib.patches.Wedge at 0x1ace6de4390>],\n [Text(-0.012522008688130765, 1.0999287246446539, ''),\n  Text(0.01252200868813063, -1.0999287246446539, '')],\n [Text(-0.006830186557162235, 0.5999611225334475, '50.4%'),\n  Text(0.006830186557162161, -0.5999611225334475, '49.6%')])"
     },
     "execution_count": 64,
     "metadata": {},
     "output_type": "execute_result"
    },
    {
     "data": {
      "text/plain": "<Figure size 640x480 with 1 Axes>",
      "image/png": "[encoded data removed]"
     },
     "metadata": {},
     "output_type": "display_data"
    }
   ],
   "source": [
    "plt.pie(train['Transported'].value_counts(), autopct='%1.1f%%')"
   ],
   "metadata": {
    "collapsed": false,
    "ExecuteTime": {
     "end_time": "2024-03-13T11:43:27.791279Z",
     "start_time": "2024-03-13T11:43:27.752686Z"
    }
   },
   "id": "c37d5b07a18dffad",
   "execution_count": 64
  },
  {
   "cell_type": "markdown",
   "source": [
    "# Future Engineering"
   ],
   "metadata": {
    "collapsed": false
   },
   "id": "15886d9d3630c31c"
  },
  {
   "cell_type": "code",
   "outputs": [],
   "source": [
    "cols = [train, test]"
   ],
   "metadata": {
    "collapsed": false,
    "ExecuteTime": {
     "end_time": "2024-03-13T11:43:27.794332Z",
     "start_time": "2024-03-13T11:43:27.791279Z"
    }
   },
   "id": "3882f9ca85e829a9",
   "execution_count": 65
  },
  {
   "cell_type": "code",
   "outputs": [],
   "source": [
    "for i in cols:\n",
    "    i = i.drop(columns='Name', axis=1, inplace=True)"
   ],
   "metadata": {
    "collapsed": false,
    "ExecuteTime": {
     "end_time": "2024-03-13T11:43:27.804428Z",
     "start_time": "2024-03-13T11:43:27.796334Z"
    }
   },
   "id": "dc9eca01e2d03984",
   "execution_count": 66
  },
  {
   "cell_type": "code",
   "outputs": [],
   "source": [
    "for i in cols:\n",
    "    i = i['Age'].fillna(train['Age'].median(), inplace=True)"
   ],
   "metadata": {
    "collapsed": false,
    "ExecuteTime": {
     "end_time": "2024-03-13T11:43:27.809Z",
     "start_time": "2024-03-13T11:43:27.805429Z"
    }
   },
   "id": "b7f796e937d42518",
   "execution_count": 67
  },
  {
   "cell_type": "code",
   "outputs": [],
   "source": [
    "for i in cols:\n",
    "    i[['deck', 'num', 'side']] = i['Cabin'].str.split('/', expand=True)"
   ],
   "metadata": {
    "collapsed": false,
    "ExecuteTime": {
     "end_time": "2024-03-13T11:43:27.822262Z",
     "start_time": "2024-03-13T11:43:27.809Z"
    }
   },
   "id": "f918936324e2a75b",
   "execution_count": 68
  },
  {
   "cell_type": "code",
   "outputs": [],
   "source": [
    "for i in cols:\n",
    "    i[['group', 'member']] = i['PassengerId'].str.split('_', expand=True)"
   ],
   "metadata": {
    "collapsed": false,
    "ExecuteTime": {
     "end_time": "2024-03-13T11:43:27.835398Z",
     "start_time": "2024-03-13T11:43:27.823260Z"
    }
   },
   "id": "e8769162079c702e",
   "execution_count": 69
  },
  {
   "cell_type": "code",
   "outputs": [],
   "source": [
    "for i in cols:\n",
    "    group_size = i.groupby('group').size()\n",
    "    grouping = set(group_size[group_size > 1].index)\n",
    "    i['is_solo'] = ~i['group'].isin(grouping)\n",
    "    i['group_size'] = i['group'].map(group_size).fillna(0).astype(int)"
   ],
   "metadata": {
    "collapsed": false,
    "ExecuteTime": {
     "end_time": "2024-03-13T11:43:27.847979Z",
     "start_time": "2024-03-13T11:43:27.836399Z"
    }
   },
   "id": "18ea661f1f79fc20",
   "execution_count": 70
  },
  {
   "cell_type": "code",
   "outputs": [],
   "source": [
    "for i in cols:\n",
    "    i = i.drop(['Cabin', 'member', 'group'], axis=1, inplace=True)"
   ],
   "metadata": {
    "collapsed": false,
    "ExecuteTime": {
     "end_time": "2024-03-13T11:43:27.853617Z",
     "start_time": "2024-03-13T11:43:27.848981Z"
    }
   },
   "id": "625b30ff26608c44",
   "execution_count": 71
  },
  {
   "cell_type": "code",
   "outputs": [],
   "source": [
    "cols = ['CryoSleep', 'VIP', 'Transported', 'is_solo']\n",
    "\n",
    "for i in cols:\n",
    "    train[i] = train[i].astype(bool)\n",
    "    if i not in test.columns:\n",
    "        continue\n",
    "    test[i] = test[i].astype(bool)\n",
    "\n",
    "train[cols] = train[cols].astype(int)\n",
    "cols.remove('Transported')\n",
    "test[cols] = test[cols].astype(int)"
   ],
   "metadata": {
    "collapsed": false,
    "ExecuteTime": {
     "end_time": "2024-03-13T11:43:27.861317Z",
     "start_time": "2024-03-13T11:43:27.854619Z"
    }
   },
   "id": "819e44a53e30388",
   "execution_count": 72
  },
  {
   "cell_type": "code",
   "outputs": [],
   "source": [
    "cols = ['RoomService', 'FoodCourt', 'ShoppingMall', 'Spa', 'VRDeck']\n",
    "\n",
    "for i in cols:\n",
    "    train[i].fillna(0, inplace=True)\n",
    "    test[i].fillna(0, inplace=True)\n",
    "\n",
    "cols.append('Age')\n",
    "train[cols] = train[cols].astype(int)\n",
    "test[cols] = test[cols].astype(int)"
   ],
   "metadata": {
    "collapsed": false,
    "ExecuteTime": {
     "end_time": "2024-03-13T11:43:27.869972Z",
     "start_time": "2024-03-13T11:43:27.862319Z"
    }
   },
   "id": "35efbd2f3c12e18a",
   "execution_count": 73
  },
  {
   "cell_type": "code",
   "outputs": [],
   "source": [
    "cols = ['HomePlanet', 'Destination', 'num', 'side', 'deck']\n",
    "\n",
    "for i in cols:\n",
    "    train[i].fillna(train[i].mode()[0], inplace=True)\n",
    "    test[i].fillna(test[i].mode()[0], inplace=True)"
   ],
   "metadata": {
    "collapsed": false,
    "ExecuteTime": {
     "end_time": "2024-03-13T11:43:27.880182Z",
     "start_time": "2024-03-13T11:43:27.870973Z"
    }
   },
   "id": "8c7324063c964446",
   "execution_count": 74
  },
  {
   "cell_type": "code",
   "outputs": [],
   "source": [
    "cols = ['HomePlanet', 'Destination', 'side', 'num', 'deck']\n",
    "le = preprocessing.LabelEncoder()\n",
    "\n",
    "for i in cols:\n",
    "    train[i] = le.fit_transform(train[i])\n",
    "    test[i] = le.fit_transform(test[i])"
   ],
   "metadata": {
    "collapsed": false,
    "ExecuteTime": {
     "end_time": "2024-03-13T11:43:27.895640Z",
     "start_time": "2024-03-13T11:43:27.881184Z"
    }
   },
   "id": "61efefbc5267261a",
   "execution_count": 75
  },
  {
   "cell_type": "markdown",
   "source": [
    "# Model Create"
   ],
   "metadata": {
    "collapsed": false
   },
   "id": "a94a0dea7e45dece"
  },
  {
   "cell_type": "code",
   "outputs": [],
   "source": [
    "y = train['Transported']\n",
    "train = train.drop(['Transported'], axis=1)"
   ],
   "metadata": {
    "collapsed": false,
    "ExecuteTime": {
     "end_time": "2024-03-13T11:43:27.899691Z",
     "start_time": "2024-03-13T11:43:27.896641Z"
    }
   },
   "id": "6c531d838a3717dc",
   "execution_count": 76
  },
  {
   "cell_type": "code",
   "outputs": [
    {
     "data": {
      "text/plain": "((8693,), (8693, 16), (4277, 16))"
     },
     "execution_count": 77,
     "metadata": {},
     "output_type": "execute_result"
    }
   ],
   "source": [
    "y.shape, train.shape, test.shape"
   ],
   "metadata": {
    "collapsed": false,
    "ExecuteTime": {
     "end_time": "2024-03-13T11:43:27.903998Z",
     "start_time": "2024-03-13T11:43:27.900693Z"
    }
   },
   "id": "e9d4d9175979f586",
   "execution_count": 77
  },
  {
   "cell_type": "code",
   "outputs": [],
   "source": [
    "X_train, X_test, y_train, y_test = train_test_split(train, y)"
   ],
   "metadata": {
    "collapsed": false,
    "ExecuteTime": {
     "end_time": "2024-03-13T11:43:27.909996Z",
     "start_time": "2024-03-13T11:43:27.905Z"
    }
   },
   "id": "6a9b7839291cdb0d",
   "execution_count": 78
  },
  {
   "cell_type": "code",
   "outputs": [
    {
     "data": {
      "text/plain": "((6519, 16), (2174, 16), (6519,), (2174,))"
     },
     "execution_count": 79,
     "metadata": {},
     "output_type": "execute_result"
    }
   ],
   "source": [
    "X_train.shape, X_test.shape, y_train.shape, y_test.shape"
   ],
   "metadata": {
    "collapsed": false,
    "ExecuteTime": {
     "end_time": "2024-03-13T11:43:27.914554Z",
     "start_time": "2024-03-13T11:43:27.910998Z"
    }
   },
   "id": "a8bfdf401abc58f2",
   "execution_count": 79
  },
  {
   "cell_type": "markdown",
   "source": [
    "#### RandomForestClassifier"
   ],
   "metadata": {
    "collapsed": false
   },
   "id": "66866672c266bafe"
  },
  {
   "cell_type": "code",
   "outputs": [
    {
     "name": "stdout",
     "output_type": "stream",
     "text": [
      "0.8012879484820608\n"
     ]
    }
   ],
   "source": [
    "from sklearn.metrics import accuracy_score\n",
    "from sklearn.ensemble import RandomForestClassifier\n",
    "\n",
    "rf = RandomForestClassifier()\n",
    "rf.fit(X_train, y_train)\n",
    "y_pred = rf.predict(X_test)\n",
    "print(accuracy_score(y_test, y_pred))"
   ],
   "metadata": {
    "collapsed": false,
    "ExecuteTime": {
     "end_time": "2024-03-13T11:43:28.936596Z",
     "start_time": "2024-03-13T11:43:27.915550Z"
    }
   },
   "id": "174f0c328d9b22c0",
   "execution_count": 80
  },
  {
   "cell_type": "markdown",
   "source": [
    "#### GradientBoostingClassifier"
   ],
   "metadata": {
    "collapsed": false
   },
   "id": "8ea171b1df065bf7"
  },
  {
   "cell_type": "code",
   "outputs": [
    {
     "name": "stdout",
     "output_type": "stream",
     "text": [
      "0.8100275988960441\n"
     ]
    }
   ],
   "source": [
    "from sklearn.ensemble import GradientBoostingClassifier\n",
    "\n",
    "gb = GradientBoostingClassifier()\n",
    "gb.fit(X_train, y_train)\n",
    "y_pred = gb.predict(X_test)\n",
    "print(accuracy_score(y_test, y_pred))"
   ],
   "metadata": {
    "collapsed": false,
    "ExecuteTime": {
     "end_time": "2024-03-13T11:43:29.934917Z",
     "start_time": "2024-03-13T11:43:28.936596Z"
    }
   },
   "id": "43fac72b4017f84f",
   "execution_count": 81
  },
  {
   "cell_type": "markdown",
   "source": [
    "#### LogisticRegression"
   ],
   "metadata": {
    "collapsed": false
   },
   "id": "1d6d178159b8cb38"
  },
  {
   "cell_type": "code",
   "outputs": [
    {
     "name": "stdout",
     "output_type": "stream",
     "text": [
      "0.7750689972401104\n"
     ]
    }
   ],
   "source": [
    "from sklearn.linear_model import LogisticRegression\n",
    "\n",
    "lr = LogisticRegression(random_state=0, max_iter=5000)\n",
    "lr.fit(X_train, y_train)\n",
    "y_pred = lr.predict(X_test)\n",
    "print(accuracy_score(y_test, y_pred))"
   ],
   "metadata": {
    "collapsed": false,
    "ExecuteTime": {
     "end_time": "2024-03-13T11:43:29.978435Z",
     "start_time": "2024-03-13T11:43:29.935914Z"
    }
   },
   "id": "82d49b4037b77760",
   "execution_count": 82
  },
  {
   "cell_type": "markdown",
   "source": [
    "#### DecisionTreeClassifier"
   ],
   "metadata": {
    "collapsed": false
   },
   "id": "386e89830b7939a3"
  },
  {
   "cell_type": "code",
   "outputs": [
    {
     "name": "stdout",
     "output_type": "stream",
     "text": [
      "0.7387304507819688\n"
     ]
    }
   ],
   "source": [
    "from sklearn.tree import DecisionTreeClassifier\n",
    "dt = DecisionTreeClassifier()\n",
    "dt.fit(X_train, y_train)\n",
    "y_pred = dt.predict(X_test)\n",
    "print(accuracy_score(y_test, y_pred))"
   ],
   "metadata": {
    "collapsed": false,
    "ExecuteTime": {
     "end_time": "2024-03-13T11:43:30.021175Z",
     "start_time": "2024-03-13T11:43:29.978435Z"
    }
   },
   "id": "ea560e0d519b787b",
   "execution_count": 83
  },
  {
   "cell_type": "markdown",
   "source": [],
   "metadata": {
    "collapsed": false
   },
   "id": "2a1371429d044e88"
  },
  {
   "cell_type": "markdown",
   "source": [
    "# Submission"
   ],
   "metadata": {
    "collapsed": false
   },
   "id": "943168926e999319"
  },
  {
   "cell_type": "code",
   "outputs": [],
   "source": [
    "pred = gb.predict(test)\n",
    "smple_sub = pd.read_csv('./datasets/sample_submission.csv')\n",
    "sub_df = pd.DataFrame({\n",
    "    'PassengerId' : smple_sub['PassengerId'],\n",
    "    'Transported' : pred\n",
    "})\n",
    "sub_df['Transported'] = sub_df['Transported'].astype('bool')\n",
    "\n",
    "sub_df.to_csv('submission.csv', index=False)"
   ],
   "metadata": {
    "collapsed": false,
    "ExecuteTime": {
     "end_time": "2024-03-13T11:43:30.039755Z",
     "start_time": "2024-03-13T11:43:30.022176Z"
    }
   },
   "id": "956b123ad10af661",
   "execution_count": 84
  }
 ],
 "metadata": {
  "kernelspec": {
   "display_name": "Python 3",
   "language": "python",
   "name": "python3"
  },
  "language_info": {
   "codemirror_mode": {
    "name": "ipython",
    "version": 2
   },
   "file_extension": ".py",
   "mimetype": "text/x-python",
   "name": "python",
   "nbconvert_exporter": "python",
   "pygments_lexer": "ipython2",
   "version": "2.7.6"
  }
 },
 "nbformat": 4,
 "nbformat_minor": 5
}
